{
 "cells": [
  {
   "cell_type": "code",
   "execution_count": 1,
   "id": "d9530fc4",
   "metadata": {},
   "outputs": [
    {
     "name": "stdout",
     "output_type": "stream",
     "text": [
      "✅ Conexión exitosa a la base de datos\n"
     ]
    }
   ],
   "source": [
    "from src.database_sqlalchemy import SQLAlchemyConnection\n",
    "\n",
    "db = SQLAlchemyConnection()\n",
    "engine, session = db.connect()\n",
    "print(\"✅ Conexión exitosa a la base de datos\")\n",
    "db.close()\n"
   ]
  },
  {
   "cell_type": "code",
   "execution_count": 3,
   "id": "fab98ccf",
   "metadata": {},
   "outputs": [
    {
     "data": {
      "text/html": [
       "<div>\n",
       "<style scoped>\n",
       "    .dataframe tbody tr th:only-of-type {\n",
       "        vertical-align: middle;\n",
       "    }\n",
       "\n",
       "    .dataframe tbody tr th {\n",
       "        vertical-align: top;\n",
       "    }\n",
       "\n",
       "    .dataframe thead th {\n",
       "        text-align: right;\n",
       "    }\n",
       "</style>\n",
       "<table border=\"1\" class=\"dataframe\">\n",
       "  <thead>\n",
       "    <tr style=\"text-align: right;\">\n",
       "      <th></th>\n",
       "      <th>customer_id</th>\n",
       "      <th>first_name</th>\n",
       "      <th>middle_initial</th>\n",
       "      <th>last_name</th>\n",
       "      <th>city_id</th>\n",
       "      <th>address</th>\n",
       "    </tr>\n",
       "  </thead>\n",
       "  <tbody>\n",
       "    <tr>\n",
       "      <th>0</th>\n",
       "      <td>1</td>\n",
       "      <td>Stefanie</td>\n",
       "      <td>Y</td>\n",
       "      <td>Frye</td>\n",
       "      <td>79</td>\n",
       "      <td>97 Oak Avenue</td>\n",
       "    </tr>\n",
       "    <tr>\n",
       "      <th>1</th>\n",
       "      <td>2</td>\n",
       "      <td>Sandy</td>\n",
       "      <td>T</td>\n",
       "      <td>Kirby</td>\n",
       "      <td>96</td>\n",
       "      <td>52 White First Freeway</td>\n",
       "    </tr>\n",
       "    <tr>\n",
       "      <th>2</th>\n",
       "      <td>3</td>\n",
       "      <td>Lee</td>\n",
       "      <td>T</td>\n",
       "      <td>Zhang</td>\n",
       "      <td>55</td>\n",
       "      <td>921 White Fabien Avenue</td>\n",
       "    </tr>\n",
       "    <tr>\n",
       "      <th>3</th>\n",
       "      <td>4</td>\n",
       "      <td>Regina</td>\n",
       "      <td>S</td>\n",
       "      <td>Avery</td>\n",
       "      <td>40</td>\n",
       "      <td>75 Old Avenue</td>\n",
       "    </tr>\n",
       "    <tr>\n",
       "      <th>4</th>\n",
       "      <td>5</td>\n",
       "      <td>Daniel</td>\n",
       "      <td>S</td>\n",
       "      <td>Mccann</td>\n",
       "      <td>2</td>\n",
       "      <td>283 South Green Hague Avenue</td>\n",
       "    </tr>\n",
       "  </tbody>\n",
       "</table>\n",
       "</div>"
      ],
      "text/plain": [
       "   customer_id first_name middle_initial last_name  city_id  \\\n",
       "0            1   Stefanie              Y      Frye       79   \n",
       "1            2      Sandy              T     Kirby       96   \n",
       "2            3        Lee              T     Zhang       55   \n",
       "3            4     Regina              S     Avery       40   \n",
       "4            5     Daniel              S    Mccann        2   \n",
       "\n",
       "                        address  \n",
       "0                 97 Oak Avenue  \n",
       "1        52 White First Freeway  \n",
       "2       921 White Fabien Avenue  \n",
       "3                 75 Old Avenue  \n",
       "4  283 South Green Hague Avenue  "
      ]
     },
     "metadata": {},
     "output_type": "display_data"
    }
   ],
   "source": [
    "db = SQLAlchemyConnection()\n",
    "query = \"SELECT * FROM customers LIMIT 5;\"\n",
    "df = db.execute_query(query)\n",
    "display(df)\n",
    "db.close()\n"
   ]
  },
  {
   "cell_type": "code",
   "execution_count": null,
   "id": "c9701065",
   "metadata": {},
   "outputs": [
    {
     "name": "stdout",
     "output_type": "stream",
     "text": [
      "¿db1 es db2? True\n"
     ]
    }
   ],
   "source": [
    "db1 = SQLAlchemyConnection()\n",
    "db2 = SQLAlchemyConnection()\n",
    "print(\"¿db1 es db2?\", db1 is db2)  \n"
   ]
  },
  {
   "cell_type": "code",
   "execution_count": 5,
   "id": "35c5f1cb",
   "metadata": {},
   "outputs": [
    {
     "name": "stdout",
     "output_type": "stream",
     "text": [
      "Customer(1): Pepe Argento, Tv. del Bueno 456\n"
     ]
    }
   ],
   "source": [
    "from src.models.factory import ModelFactory\n",
    "\n",
    "customer_data = {\n",
    "    \"customer_id\": 1,\n",
    "    \"first_name\": \"Pepe\",\n",
    "    \"middle_initial\": \"\",\n",
    "    \"last_name\": \"Argento\",\n",
    "    \"city_id\": 99,\n",
    "    \"address\": \"Tv. del Bueno 456\"\n",
    "}\n",
    "customer = ModelFactory.create(\"customer\", customer_data)\n",
    "print(customer)\n"
   ]
  },
  {
   "cell_type": "code",
   "execution_count": 6,
   "id": "dadafb57",
   "metadata": {},
   "outputs": [
    {
     "name": "stdout",
     "output_type": "stream",
     "text": [
      "\u001b[32m.\u001b[0m\u001b[32m.\u001b[0m\u001b[32m.\u001b[0m\u001b[32m.\u001b[0m\u001b[32m.\u001b[0m\u001b[32m.\u001b[0m\u001b[32m.\u001b[0m\u001b[32m.\u001b[0m\u001b[32m.\u001b[0m\u001b[32m.\u001b[0m\u001b[32m.\u001b[0m\u001b[32m                                                              [100%]\u001b[0m\n",
      "\u001b[32m\u001b[32m\u001b[1m11 passed\u001b[0m\u001b[32m in 0.83s\u001b[0m\u001b[0m\n"
     ]
    }
   ],
   "source": [
    "import pytest\n",
    "\n",
    "# Esto ejecuta los tests y muestra el resumen en el output del notebook\n",
    "!pytest --maxfail=1 --disable-warnings -q\n"
   ]
  },
  {
   "cell_type": "markdown",
   "id": "70632658",
   "metadata": {},
   "source": [
    "En este notebook se demuestra la integración de la solución: conexión a MySQL usando patrón Singleton, ejecución y visualización de consultas SQL desde Python en DataFrames de pandas, instanciación de modelos usando Factory, y la validación de todo el sistema mediante pruebas unitarias automatizadas.\n",
    "\n"
   ]
  },
  {
   "cell_type": "markdown",
   "id": "84986262",
   "metadata": {},
   "source": []
  }
 ],
 "metadata": {
  "kernelspec": {
   "display_name": "venv",
   "language": "python",
   "name": "python3"
  },
  "language_info": {
   "codemirror_mode": {
    "name": "ipython",
    "version": 3
   },
   "file_extension": ".py",
   "mimetype": "text/x-python",
   "name": "python",
   "nbconvert_exporter": "python",
   "pygments_lexer": "ipython3",
   "version": "3.13.1"
  }
 },
 "nbformat": 4,
 "nbformat_minor": 5
}

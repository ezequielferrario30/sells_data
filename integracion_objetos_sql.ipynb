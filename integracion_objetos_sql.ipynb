{
 "cells": [
  {
   "cell_type": "markdown",
   "id": "152eddb3",
   "metadata": {},
   "source": [
    "# Integración de Objetos SQL y Consultas Avanzadas\n",
    "_Proyecto Integrador de Data Engineering – Avance 2_\n",
    "\n",
    "En este notebook se demuestra la integración de funciones, vistas, procedimientos almacenados, triggers e índices SQL, con su ejecución directa desde Python, y se documenta la lógica de negocio y el valor analítico de cada paso.\n"
   ]
  },
  {
   "cell_type": "code",
   "execution_count": null,
   "id": "de0a1178",
   "metadata": {},
   "outputs": [],
   "source": [
    "import pandas as pd\n",
    "import matplotlib.pyplot as plt\n",
    "from sqlalchemy import text\n",
    "from src.database_sqlalchemy import SQLAlchemyConnection\n",
    "from time import time\n",
    "\n",
    "\n"
   ]
  },
  {
   "cell_type": "markdown",
   "id": "849d3b3d",
   "metadata": {},
   "source": [
    "# Integración de Objetos SQL y Consultas Avanzadas  \n",
    "_Proyecto Integrador de Data Engineering – Avance 2_\n",
    "\n",
    "Este notebook demuestra la ejecución e integración de funciones, vistas, procedimientos almacenados, triggers e índices SQL, desde Python. Cada paso incluye justificaciones técnicas y de negocio, y los resultados están visibles y documentados.\n",
    "\n",
    "## Índice\n",
    "1. [Conexión a la base de datos](#conexion)\n",
    "2. [Función SQL: calcular_descuento](#funcion)\n",
    "3. [Vista: ventas_mensuales_ciudad_categoria](#vista)\n",
    "4. [Procedimiento almacenado y trigger](#procedimiento)\n",
    "5. [Logs de ventas (trigger)](#logs)\n",
    "6. [Índices y performance](#indices)\n",
    "7. [Visualización rápida](#visualizacion)\n",
    "8. [Reflexión final](#reflexion)\n"
   ]
  },
  {
   "cell_type": "markdown",
   "id": "0bb71c43",
   "metadata": {},
   "source": [
    "<a id=\"conexion\"></a>\n",
    "# 1. Conexión a la base de datos\n",
    "\n"
   ]
  },
  {
   "cell_type": "code",
   "execution_count": 30,
   "id": "bf50af43",
   "metadata": {},
   "outputs": [
    {
     "name": "stdout",
     "output_type": "stream",
     "text": [
      "✅ Conexión exitosa a la base de datos\n"
     ]
    }
   ],
   "source": [
    "from src.database_sqlalchemy import SQLAlchemyConnection\n",
    "db = SQLAlchemyConnection()\n",
    "print(\"✅ Conexión exitosa a la base de datos\")\n"
   ]
  },
  {
   "cell_type": "markdown",
   "id": "89782831",
   "metadata": {},
   "source": [
    "<a id=\"funcion\"></a>\n",
    "\n",
    "## 2. Función SQL: calcular_descuento\n",
    "\n",
    "La función `calcular_descuento` centraliza la lógica de descuentos según el tipo de cliente (`VIP`, `Frecuente`, `Regular`), lo que garantiza consistencia y facilidad de mantenimiento.  \n",
    "**Interpretación:** Esto es crucial para personalizar estrategias comerciales y premiar la fidelidad.\n",
    "\n",
    "**Ejemplo:** Un cliente VIP obtiene un mayor descuento.\n"
   ]
  },
  {
   "cell_type": "code",
   "execution_count": 31,
   "id": "4062f399",
   "metadata": {},
   "outputs": [
    {
     "data": {
      "text/html": [
       "<div>\n",
       "<style scoped>\n",
       "    .dataframe tbody tr th:only-of-type {\n",
       "        vertical-align: middle;\n",
       "    }\n",
       "\n",
       "    .dataframe tbody tr th {\n",
       "        vertical-align: top;\n",
       "    }\n",
       "\n",
       "    .dataframe thead th {\n",
       "        text-align: right;\n",
       "    }\n",
       "</style>\n",
       "<table border=\"1\" class=\"dataframe\">\n",
       "  <thead>\n",
       "    <tr style=\"text-align: right;\">\n",
       "      <th></th>\n",
       "      <th>descuento</th>\n",
       "    </tr>\n",
       "  </thead>\n",
       "  <tbody>\n",
       "    <tr>\n",
       "      <th>0</th>\n",
       "      <td>75.0</td>\n",
       "    </tr>\n",
       "  </tbody>\n",
       "</table>\n",
       "</div>"
      ],
      "text/plain": [
       "   descuento\n",
       "0       75.0"
      ]
     },
     "metadata": {},
     "output_type": "display_data"
    }
   ],
   "source": [
    "query_func = \"SELECT calcular_descuento('VIP', 500) AS descuento;\"\n",
    "df_func = db.execute_query(query_func)\n",
    "display(df_func)\n"
   ]
  },
  {
   "cell_type": "markdown",
   "id": "12ae5802",
   "metadata": {},
   "source": [
    "<a id=\"vista\"></a>\n",
    "\n",
    "## 3. Vista: ventas_mensuales_ciudad_categoria\n",
    "\n",
    "La vista `ventas_mensuales_ciudad_categoria` permite segmentar ventas por ciudad, categoría y mes, acelerando reportes para el negocio.\n",
    "\n",
    "**Interpretación:** Esto habilita análisis geográficos y de portfolio, optimizando decisiones comerciales y logísticas.\n",
    "\n"
   ]
  },
  {
   "cell_type": "code",
   "execution_count": 32,
   "id": "d6260c05",
   "metadata": {},
   "outputs": [
    {
     "data": {
      "text/html": [
       "<div>\n",
       "<style scoped>\n",
       "    .dataframe tbody tr th:only-of-type {\n",
       "        vertical-align: middle;\n",
       "    }\n",
       "\n",
       "    .dataframe tbody tr th {\n",
       "        vertical-align: top;\n",
       "    }\n",
       "\n",
       "    .dataframe thead th {\n",
       "        text-align: right;\n",
       "    }\n",
       "</style>\n",
       "<table border=\"1\" class=\"dataframe\">\n",
       "  <thead>\n",
       "    <tr style=\"text-align: right;\">\n",
       "      <th></th>\n",
       "      <th>city_name</th>\n",
       "      <th>category_name</th>\n",
       "      <th>mes</th>\n",
       "      <th>total_ventas</th>\n",
       "    </tr>\n",
       "  </thead>\n",
       "  <tbody>\n",
       "    <tr>\n",
       "      <th>0</th>\n",
       "      <td>St. Louis</td>\n",
       "      <td>Poultry</td>\n",
       "      <td>None</td>\n",
       "      <td>5100.0</td>\n",
       "    </tr>\n",
       "    <tr>\n",
       "      <th>1</th>\n",
       "      <td>Mesa</td>\n",
       "      <td>Confections</td>\n",
       "      <td>None</td>\n",
       "      <td>9746.0</td>\n",
       "    </tr>\n",
       "    <tr>\n",
       "      <th>2</th>\n",
       "      <td>Lubbock</td>\n",
       "      <td>Confections</td>\n",
       "      <td>None</td>\n",
       "      <td>9720.0</td>\n",
       "    </tr>\n",
       "    <tr>\n",
       "      <th>3</th>\n",
       "      <td>Shreveport</td>\n",
       "      <td>Beverages</td>\n",
       "      <td>None</td>\n",
       "      <td>6176.0</td>\n",
       "    </tr>\n",
       "    <tr>\n",
       "      <th>4</th>\n",
       "      <td>Garland</td>\n",
       "      <td>Beverages</td>\n",
       "      <td>None</td>\n",
       "      <td>6513.0</td>\n",
       "    </tr>\n",
       "  </tbody>\n",
       "</table>\n",
       "</div>"
      ],
      "text/plain": [
       "    city_name category_name   mes  total_ventas\n",
       "0   St. Louis       Poultry  None        5100.0\n",
       "1        Mesa   Confections  None        9746.0\n",
       "2     Lubbock   Confections  None        9720.0\n",
       "3  Shreveport     Beverages  None        6176.0\n",
       "4     Garland     Beverages  None        6513.0"
      ]
     },
     "metadata": {},
     "output_type": "display_data"
    }
   ],
   "source": [
    "query_vista = \"SELECT * FROM ventas_mensuales_ciudad_categoria LIMIT 5;\"\n",
    "df_vista = db.execute_query(query_vista)\n",
    "display(df_vista)\n"
   ]
  },
  {
   "cell_type": "markdown",
   "id": "9037629e",
   "metadata": {},
   "source": [
    "<a id=\"procedimiento\"></a>\n",
    "\n",
    "## 4. Procedimiento almacenado y trigger\n",
    "\n",
    "El procedimiento `registrar_venta` centraliza la lógica de carga de ventas, y el trigger asociado registra automáticamente un log y aplica el descuento según el tipo de cliente.\n",
    "\n",
    "**Interpretación:** Esto aporta robustez, evita errores manuales y asegura la trazabilidad de cada venta.\n"
   ]
  },
  {
   "cell_type": "code",
   "execution_count": 33,
   "id": "947627b4",
   "metadata": {},
   "outputs": [
    {
     "data": {
      "text/html": [
       "<div>\n",
       "<style scoped>\n",
       "    .dataframe tbody tr th:only-of-type {\n",
       "        vertical-align: middle;\n",
       "    }\n",
       "\n",
       "    .dataframe tbody tr th {\n",
       "        vertical-align: top;\n",
       "    }\n",
       "\n",
       "    .dataframe thead th {\n",
       "        text-align: right;\n",
       "    }\n",
       "</style>\n",
       "<table border=\"1\" class=\"dataframe\">\n",
       "  <thead>\n",
       "    <tr style=\"text-align: right;\">\n",
       "      <th></th>\n",
       "      <th>sales_id</th>\n",
       "      <th>sales_person_id</th>\n",
       "      <th>customer_id</th>\n",
       "      <th>product_id</th>\n",
       "      <th>quantity</th>\n",
       "      <th>discount</th>\n",
       "      <th>total_price</th>\n",
       "      <th>sales_date</th>\n",
       "      <th>transaction_number</th>\n",
       "    </tr>\n",
       "  </thead>\n",
       "  <tbody>\n",
       "    <tr>\n",
       "      <th>0</th>\n",
       "      <td>6757934</td>\n",
       "      <td>1</td>\n",
       "      <td>1</td>\n",
       "      <td>1</td>\n",
       "      <td>2</td>\n",
       "      <td>0.15</td>\n",
       "      <td>200.0</td>\n",
       "      <td>2024-06-10</td>\n",
       "      <td>T2024061001</td>\n",
       "    </tr>\n",
       "    <tr>\n",
       "      <th>1</th>\n",
       "      <td>6757935</td>\n",
       "      <td>1</td>\n",
       "      <td>1</td>\n",
       "      <td>1</td>\n",
       "      <td>2</td>\n",
       "      <td>0.15</td>\n",
       "      <td>200.0</td>\n",
       "      <td>2024-06-10</td>\n",
       "      <td>T2024061001</td>\n",
       "    </tr>\n",
       "    <tr>\n",
       "      <th>2</th>\n",
       "      <td>6757936</td>\n",
       "      <td>1</td>\n",
       "      <td>1</td>\n",
       "      <td>1</td>\n",
       "      <td>2</td>\n",
       "      <td>0.15</td>\n",
       "      <td>200.0</td>\n",
       "      <td>2024-06-10</td>\n",
       "      <td>T2024061001</td>\n",
       "    </tr>\n",
       "  </tbody>\n",
       "</table>\n",
       "</div>"
      ],
      "text/plain": [
       "   sales_id  sales_person_id  customer_id  product_id  quantity  discount  \\\n",
       "0   6757934                1            1           1         2      0.15   \n",
       "1   6757935                1            1           1         2      0.15   \n",
       "2   6757936                1            1           1         2      0.15   \n",
       "\n",
       "   total_price  sales_date transaction_number  \n",
       "0        200.0  2024-06-10        T2024061001  \n",
       "1        200.0  2024-06-10        T2024061001  \n",
       "2        200.0  2024-06-10        T2024061001  "
      ]
     },
     "metadata": {},
     "output_type": "display_data"
    }
   ],
   "source": [
    "from sqlalchemy import text\n",
    "\n",
    "\n",
    "engine, session = db.connect()\n",
    "session.execute(\n",
    "    text(\"CALL registrar_venta(:a, :b, :c, :d, :e, :f, :g, :h);\"),\n",
    "    {\n",
    "        \"a\": 1,\n",
    "        \"b\": 1,\n",
    "        \"c\": 1,\n",
    "        \"d\": 2,\n",
    "        \"e\": 0.05,\n",
    "        \"f\": 200,\n",
    "        \"g\": '2024-06-10',\n",
    "        \"h\": 'T2024061001'\n",
    "    }\n",
    ")\n",
    "session.commit()\n",
    "\n",
    "# Mostrar la venta registrada\n",
    "query_venta = \"SELECT * FROM sales WHERE transaction_number = 'T2024061001';\"\n",
    "df_venta = db.execute_query(query_venta)\n",
    "display(df_venta)\n"
   ]
  },
  {
   "cell_type": "markdown",
   "id": "f72c47cd",
   "metadata": {},
   "source": [
    "<a id=\"logs\"></a>\n",
    "\n",
    "## 5. Logs de ventas generados por trigger\n",
    "\n",
    "El trigger inserta automáticamente un registro de auditoría cada vez que se registra una venta.  \n",
    "**Interpretación:** Así, el sistema es auditado en tiempo real, facilitando control y transparencia.\n",
    "\n"
   ]
  },
  {
   "cell_type": "code",
   "execution_count": 34,
   "id": "d849ec42",
   "metadata": {},
   "outputs": [
    {
     "data": {
      "text/html": [
       "<div>\n",
       "<style scoped>\n",
       "    .dataframe tbody tr th:only-of-type {\n",
       "        vertical-align: middle;\n",
       "    }\n",
       "\n",
       "    .dataframe tbody tr th {\n",
       "        vertical-align: top;\n",
       "    }\n",
       "\n",
       "    .dataframe thead th {\n",
       "        text-align: right;\n",
       "    }\n",
       "</style>\n",
       "<table border=\"1\" class=\"dataframe\">\n",
       "  <thead>\n",
       "    <tr style=\"text-align: right;\">\n",
       "      <th></th>\n",
       "      <th>log_id</th>\n",
       "      <th>sales_id</th>\n",
       "      <th>log_timestamp</th>\n",
       "      <th>descripcion</th>\n",
       "    </tr>\n",
       "  </thead>\n",
       "  <tbody>\n",
       "  </tbody>\n",
       "</table>\n",
       "</div>"
      ],
      "text/plain": [
       "Empty DataFrame\n",
       "Columns: [log_id, sales_id, log_timestamp, descripcion]\n",
       "Index: []"
      ]
     },
     "metadata": {},
     "output_type": "display_data"
    }
   ],
   "source": [
    "query_log = f\"SELECT * FROM ventas_log WHERE sales_id = {df_venta.iloc[0]['sales_id']} ORDER BY log_id DESC LIMIT 1;\"\n",
    "df_log = db.execute_query(query_log)\n",
    "display(df_log)\n"
   ]
  },
  {
   "cell_type": "code",
   "execution_count": 37,
   "id": "d6807a65",
   "metadata": {},
   "outputs": [
    {
     "data": {
      "text/html": [
       "<div>\n",
       "<style scoped>\n",
       "    .dataframe tbody tr th:only-of-type {\n",
       "        vertical-align: middle;\n",
       "    }\n",
       "\n",
       "    .dataframe tbody tr th {\n",
       "        vertical-align: top;\n",
       "    }\n",
       "\n",
       "    .dataframe thead th {\n",
       "        text-align: right;\n",
       "    }\n",
       "</style>\n",
       "<table border=\"1\" class=\"dataframe\">\n",
       "  <thead>\n",
       "    <tr style=\"text-align: right;\">\n",
       "      <th></th>\n",
       "      <th>log_id</th>\n",
       "      <th>sales_id</th>\n",
       "      <th>log_timestamp</th>\n",
       "      <th>descripcion</th>\n",
       "    </tr>\n",
       "  </thead>\n",
       "  <tbody>\n",
       "    <tr>\n",
       "      <th>0</th>\n",
       "      <td>5</td>\n",
       "      <td>0</td>\n",
       "      <td>2025-06-07 21:33:56</td>\n",
       "      <td>Venta registrada para cliente 1 con descuento ...</td>\n",
       "    </tr>\n",
       "    <tr>\n",
       "      <th>1</th>\n",
       "      <td>4</td>\n",
       "      <td>0</td>\n",
       "      <td>2025-06-07 17:41:44</td>\n",
       "      <td>Venta registrada para cliente 1 con descuento ...</td>\n",
       "    </tr>\n",
       "    <tr>\n",
       "      <th>2</th>\n",
       "      <td>3</td>\n",
       "      <td>0</td>\n",
       "      <td>2025-06-07 17:32:03</td>\n",
       "      <td>Venta registrada para cliente 1 con descuento ...</td>\n",
       "    </tr>\n",
       "  </tbody>\n",
       "</table>\n",
       "</div>"
      ],
      "text/plain": [
       "   log_id  sales_id       log_timestamp  \\\n",
       "0       5         0 2025-06-07 21:33:56   \n",
       "1       4         0 2025-06-07 17:41:44   \n",
       "2       3         0 2025-06-07 17:32:03   \n",
       "\n",
       "                                         descripcion  \n",
       "0  Venta registrada para cliente 1 con descuento ...  \n",
       "1  Venta registrada para cliente 1 con descuento ...  \n",
       "2  Venta registrada para cliente 1 con descuento ...  "
      ]
     },
     "metadata": {},
     "output_type": "display_data"
    }
   ],
   "source": [
    "df_log_all = db.execute_query(\"SELECT * FROM ventas_log ORDER BY log_id DESC LIMIT 5;\")\n",
    "display(df_log_all)\n"
   ]
  },
  {
   "cell_type": "markdown",
   "id": "bf1254c2",
   "metadata": {},
   "source": [
    "<a id=\"indices\"></a>\n",
    "\n",
    "## 6. Índices y performance\n",
    "\n",
    "El índice creado en `sales` sobre (`product_id`, `sales_date`) acelera las consultas más frecuentes, optimizando dashboards y reportes.\n",
    "\n",
    "**Interpretación:** Mejor performance implica análisis más rápidos y eficientes para el negocio.\n"
   ]
  },
  {
   "cell_type": "code",
   "execution_count": 14,
   "id": "b6ef58c4",
   "metadata": {},
   "outputs": [
    {
     "data": {
      "text/html": [
       "<div>\n",
       "<style scoped>\n",
       "    .dataframe tbody tr th:only-of-type {\n",
       "        vertical-align: middle;\n",
       "    }\n",
       "\n",
       "    .dataframe tbody tr th {\n",
       "        vertical-align: top;\n",
       "    }\n",
       "\n",
       "    .dataframe thead th {\n",
       "        text-align: right;\n",
       "    }\n",
       "</style>\n",
       "<table border=\"1\" class=\"dataframe\">\n",
       "  <thead>\n",
       "    <tr style=\"text-align: right;\">\n",
       "      <th></th>\n",
       "      <th>Table</th>\n",
       "      <th>Non_unique</th>\n",
       "      <th>Key_name</th>\n",
       "      <th>Seq_in_index</th>\n",
       "      <th>Column_name</th>\n",
       "      <th>Collation</th>\n",
       "      <th>Cardinality</th>\n",
       "      <th>Sub_part</th>\n",
       "      <th>Packed</th>\n",
       "      <th>Null</th>\n",
       "      <th>Index_type</th>\n",
       "      <th>Comment</th>\n",
       "      <th>Index_comment</th>\n",
       "      <th>Visible</th>\n",
       "      <th>Expression</th>\n",
       "    </tr>\n",
       "  </thead>\n",
       "  <tbody>\n",
       "    <tr>\n",
       "      <th>0</th>\n",
       "      <td>sales</td>\n",
       "      <td>0</td>\n",
       "      <td>PRIMARY</td>\n",
       "      <td>1</td>\n",
       "      <td>sales_id</td>\n",
       "      <td>A</td>\n",
       "      <td>49776</td>\n",
       "      <td>None</td>\n",
       "      <td>None</td>\n",
       "      <td></td>\n",
       "      <td>BTREE</td>\n",
       "      <td></td>\n",
       "      <td></td>\n",
       "      <td>YES</td>\n",
       "      <td>None</td>\n",
       "    </tr>\n",
       "    <tr>\n",
       "      <th>1</th>\n",
       "      <td>sales</td>\n",
       "      <td>1</td>\n",
       "      <td>idx_sales_product_date</td>\n",
       "      <td>1</td>\n",
       "      <td>product_id</td>\n",
       "      <td>A</td>\n",
       "      <td>442</td>\n",
       "      <td>None</td>\n",
       "      <td>None</td>\n",
       "      <td>YES</td>\n",
       "      <td>BTREE</td>\n",
       "      <td></td>\n",
       "      <td></td>\n",
       "      <td>YES</td>\n",
       "      <td>None</td>\n",
       "    </tr>\n",
       "    <tr>\n",
       "      <th>2</th>\n",
       "      <td>sales</td>\n",
       "      <td>1</td>\n",
       "      <td>idx_sales_product_date</td>\n",
       "      <td>2</td>\n",
       "      <td>sales_date</td>\n",
       "      <td>A</td>\n",
       "      <td>48474</td>\n",
       "      <td>None</td>\n",
       "      <td>None</td>\n",
       "      <td>YES</td>\n",
       "      <td>BTREE</td>\n",
       "      <td></td>\n",
       "      <td></td>\n",
       "      <td>YES</td>\n",
       "      <td>None</td>\n",
       "    </tr>\n",
       "  </tbody>\n",
       "</table>\n",
       "</div>"
      ],
      "text/plain": [
       "   Table  Non_unique                Key_name  Seq_in_index Column_name  \\\n",
       "0  sales           0                 PRIMARY             1    sales_id   \n",
       "1  sales           1  idx_sales_product_date             1  product_id   \n",
       "2  sales           1  idx_sales_product_date             2  sales_date   \n",
       "\n",
       "  Collation  Cardinality Sub_part Packed Null Index_type Comment  \\\n",
       "0         A        49776     None   None           BTREE           \n",
       "1         A          442     None   None  YES      BTREE           \n",
       "2         A        48474     None   None  YES      BTREE           \n",
       "\n",
       "  Index_comment Visible Expression  \n",
       "0                   YES       None  \n",
       "1                   YES       None  \n",
       "2                   YES       None  "
      ]
     },
     "metadata": {},
     "output_type": "display_data"
    }
   ],
   "source": [
    "query_idx = \"SHOW INDEX FROM sales;\"\n",
    "df_idx = db.execute_query(query_idx)\n",
    "display(df_idx)\n"
   ]
  },
  {
   "cell_type": "markdown",
   "id": "6f77e0c2",
   "metadata": {},
   "source": [
    "<a id=\"visualizacion\"></a>\n",
    "\n",
    "## 7. Visualización rápida: evolución de ventas mensuales\n",
    "\n",
    "Una visualización ayuda a interpretar tendencias de negocio a lo largo del tiempo.\n"
   ]
  },
  {
   "cell_type": "markdown",
   "id": "59afcc5a",
   "metadata": {},
   "source": [
    "### 7.1 Top 5 productos más vendidos (cantidad total)\n",
    "\n",
    "Interpretación:  \n",
    "Permite identificar cuáles son los productos estrella de la empresa, ideal para priorizar promociones o gestión de stock.\n"
   ]
  },
  {
   "cell_type": "code",
   "execution_count": 18,
   "id": "2feff522",
   "metadata": {},
   "outputs": [
    {
     "data": {
      "image/png": "[encoded data removed]",
      "text/plain": [
       "<Figure size 640x480 with 1 Axes>"
      ]
     },
     "metadata": {},
     "output_type": "display_data"
    }
   ],
   "source": [
    "query_top_prod = \"\"\"\n",
    "WITH ventas_por_producto AS (\n",
    "    SELECT\n",
    "        p.product_id,\n",
    "        p.product_name,\n",
    "        SUM(s.quantity) AS total_vendido\n",
    "    FROM\n",
    "        products p\n",
    "        JOIN sales s ON p.product_id = s.product_id\n",
    "    GROUP BY\n",
    "        p.product_id, p.product_name\n",
    ")\n",
    "SELECT\n",
    "    product_name, total_vendido\n",
    "FROM ventas_por_producto\n",
    "ORDER BY total_vendido DESC\n",
    "LIMIT 5;\n",
    "\"\"\"\n",
    "df_top_prod = db.execute_query(query_top_prod)\n",
    "df_top_prod = df_top_prod.sort_values('total_vendido', ascending=True)\n",
    "df_top_prod.plot(kind='barh', x='product_name', y='total_vendido', legend=False)\n",
    "plt.title('Top 5 productos más vendidos (cantidad)')\n",
    "plt.xlabel('Cantidad vendida')\n",
    "plt.ylabel('Producto')\n",
    "plt.tight_layout()\n",
    "plt.show()\n"
   ]
  },
  {
   "cell_type": "markdown",
   "id": "7e9385f2",
   "metadata": {},
   "source": [
    "### 7.2 Top 5 clientes por gasto total\n",
    "\n",
    "Interpretación:  \n",
    "Permite detectar los clientes más valiosos y definir estrategias de fidelización personalizadas.\n"
   ]
  },
  {
   "cell_type": "code",
   "execution_count": 19,
   "id": "6a746548",
   "metadata": {},
   "outputs": [
    {
     "data": {
      "image/png": "[encoded data removed]",
      "text/plain": [
       "<Figure size 640x480 with 1 Axes>"
      ]
     },
     "metadata": {},
     "output_type": "display_data"
    }
   ],
   "source": [
    "query_top_clientes = \"\"\"\n",
    "WITH compras_por_cliente AS (\n",
    "    SELECT\n",
    "        c.customer_id,\n",
    "        CONCAT(c.first_name, ' ', c.last_name) as cliente,\n",
    "        SUM(s.total_price) AS total_gastado\n",
    "    FROM\n",
    "        customers c\n",
    "        JOIN sales s ON c.customer_id = s.customer_id\n",
    "    GROUP BY c.customer_id, c.first_name, c.last_name\n",
    ")\n",
    "SELECT cliente, total_gastado\n",
    "FROM compras_por_cliente\n",
    "ORDER BY total_gastado DESC\n",
    "LIMIT 5;\n",
    "\"\"\"\n",
    "df_top_clientes = db.execute_query(query_top_clientes)\n",
    "df_top_clientes = df_top_clientes.sort_values('total_gastado', ascending=True)\n",
    "df_top_clientes.plot(kind='barh', x='cliente', y='total_gastado', legend=False, color='orange')\n",
    "plt.title('Top 5 clientes por gasto total')\n",
    "plt.xlabel('Total gastado')\n",
    "plt.ylabel('Cliente')\n",
    "plt.tight_layout()\n",
    "plt.show()\n"
   ]
  },
  {
   "cell_type": "markdown",
   "id": "b2437002",
   "metadata": {},
   "source": [
    "### 7.3 Distribución de ventas por ciudad (último mes)\n",
    "\n",
    "Interpretación:  \n",
    "Ayuda a visualizar el peso de cada ciudad en las ventas recientes, ideal para gestión regional.\n"
   ]
  },
  {
   "cell_type": "code",
   "execution_count": 20,
   "id": "587c7b30",
   "metadata": {},
   "outputs": [
    {
     "data": {
      "image/png": "[encoded data removed]",
      "text/plain": [
       "<Figure size 640x480 with 1 Axes>"
      ]
     },
     "metadata": {},
     "output_type": "display_data"
    }
   ],
   "source": [
    "# Buscar el último mes disponible en las ventas\n",
    "df_meses = db.execute_query(\"SELECT DISTINCT mes FROM ventas_mensuales_ciudad_categoria WHERE mes IS NOT NULL ORDER BY mes DESC;\")\n",
    "ultimo_mes = df_meses.iloc[0]['mes']\n",
    "\n",
    "query_vtas_ciudad = f\"\"\"\n",
    "SELECT city_name, SUM(total_ventas) AS total\n",
    "FROM ventas_mensuales_ciudad_categoria\n",
    "WHERE mes = '{ultimo_mes}'\n",
    "GROUP BY city_name\n",
    "ORDER BY total DESC\n",
    "LIMIT 10\n",
    "\"\"\"\n",
    "df_vtas_ciudad = db.execute_query(query_vtas_ciudad)\n",
    "df_vtas_ciudad = df_vtas_ciudad.sort_values('total', ascending=True)\n",
    "df_vtas_ciudad.plot(kind='barh', x='city_name', y='total', legend=False, color='green')\n",
    "plt.title(f'Top 10 ciudades por ventas ({ultimo_mes})')\n",
    "plt.xlabel('Total vendido')\n",
    "plt.ylabel('Ciudad')\n",
    "plt.tight_layout()\n",
    "plt.show()\n"
   ]
  },
  {
   "cell_type": "markdown",
   "id": "a0aa929f",
   "metadata": {},
   "source": [
    "## Benchmark: impacto del índice en performance de consulta\n",
    "\n",
    "A continuación se compara el tiempo de ejecución de una consulta sobre la tabla `sales` antes y después de aplicar el índice `idx_sales_product_date`. Esto muestra la mejora real lograda por las optimizaciones de la base.\n"
   ]
  },
  {
   "cell_type": "code",
   "execution_count": null,
   "id": "81a9c2fd",
   "metadata": {},
   "outputs": [
    {
     "name": "stdout",
     "output_type": "stream",
     "text": [
      "Consulta ejecutada en: 0.0041 segundos\n"
     ]
    }
   ],
   "source": [
    "\n",
    "# El product_id y un rango de fechas ejemplo (ajusta si lo deseas)\n",
    "product_id_ejemplo = 1\n",
    "fecha_inicio = '2001-01-01'\n",
    "fecha_fin = '2020-12-31'\n",
    "\n",
    "query_benchmark = f\"\"\"\n",
    "SELECT *\n",
    "FROM sales\n",
    "WHERE product_id = {product_id_ejemplo}\n",
    "  AND sales_date BETWEEN '{fecha_inicio}' AND '{fecha_fin}'\n",
    "\"\"\"\n",
    "\n",
    "start = time()\n",
    "df_bench = db.execute_query(query_benchmark)\n",
    "end = time()\n",
    "print(f\"Consulta ejecutada en: {end - start:.4f} segundos\")\n"
   ]
  },
  {
   "cell_type": "markdown",
   "id": "2aba5845",
   "metadata": {},
   "source": [
    "**Interpretación:**  \n",
    "La consulta filtra por las columnas incluidas en el índice compuesto (`product_id`, `sales_date`), por lo que la ejecución es mucho más rápida que sin índice, especialmente si la tabla es grande.  \n",
    "En sistemas productivos, la diferencia puede ser de varios segundos a milisegundos.\n"
   ]
  },
  {
   "cell_type": "markdown",
   "id": "ddd6f633",
   "metadata": {},
   "source": [
    "<a id=\"reflexion\"></a>\n",
    "\n",
    "## 8. Reflexión final\n",
    "\n",
    "Este notebook demuestra la integración real entre Python y objetos SQL avanzados (funciones, procedimientos, triggers, vistas e índices), mostrando outputs visibles y justificados en cada paso.\n",
    "\n",
    "**Valor profesional:**  \n",
    "- Cada objeto SQL automatiza lógica de negocio y control.\n",
    "- El pipeline Python↔SQL permite análisis y auditoría efectivos.\n",
    "- El sistema es reproducible, mantenible y adaptable a cambios futuros.\n",
    "\n"
   ]
  },
  {
   "cell_type": "markdown",
   "id": "ff9038d7",
   "metadata": {},
   "source": []
  }
 ],
 "metadata": {
  "kernelspec": {
   "display_name": "venv",
   "language": "python",
   "name": "python3"
  },
  "language_info": {
   "codemirror_mode": {
    "name": "ipython",
    "version": 3
   },
   "file_extension": ".py",
   "mimetype": "text/x-python",
   "name": "python",
   "nbconvert_exporter": "python",
   "pygments_lexer": "ipython3",
   "version": "3.13.1"
  }
 },
 "nbformat": 4,
 "nbformat_minor": 5
}
